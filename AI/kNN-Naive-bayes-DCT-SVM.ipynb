{
 "cells": [
  {
   "cell_type": "markdown",
   "metadata": {},
   "source": [
    "# kNN, Naive Bayes, Decision Tree and SVM\n",
    "\n",
    "Implementasi 4 metode menggunakan scipy di python 3. Requirement:\n",
    "1. scipy\n",
    "2. scikit-learn\n",
    "3. numpy\n",
    "\n",
    "## 1 k-Nearest Neighbours"
   ]
  }
 ],
 "metadata": {
  "kernelspec": {
   "display_name": "Python 3",
   "language": "python",
   "name": "python3"
  },
  "language_info": {
   "codemirror_mode": {
    "name": "ipython",
    "version": 3
   },
   "file_extension": ".py",
   "mimetype": "text/x-python",
   "name": "python",
   "nbconvert_exporter": "python",
   "pygments_lexer": "ipython3",
   "version": "3.6.3"
  }
 },
 "nbformat": 4,
 "nbformat_minor": 2
}
