{
 "cells": [
  {
   "cell_type": "code",
   "execution_count": 1,
   "metadata": {},
   "outputs": [
    {
     "name": "stdout",
     "output_type": "stream",
     "text": [
      "X_train (100, 4)\n",
      "X_test (50, 4)\n",
      "Akurasi k-NN: 0.94\n",
      "Akurasi Naive Bayes: 0.96\n",
      "Akurasi DT: 0.94\n",
      "Akurasi SVM: 0.98\n"
     ]
    }
   ],
   "source": [
    "import numpy as np\n",
    "from sklearn.model_selection import train_test_split\n",
    "from sklearn import neighbors, datasets\n",
    "from sklearn.naive_bayes import GaussianNB\n",
    "from sklearn import tree\n",
    "from sklearn import svm\n",
    "from sklearn.metrics import accuracy_score\n",
    "\n",
    "iris = datasets.load_iris()\n",
    "\n",
    "X = iris.data\n",
    "y = iris.target\n",
    "\n",
    "X_train, X_test, Y_train, Y_test = train_test_split(iris.data, iris.target, test_size=.33)\n",
    "print('X_train', X_train.shape)\n",
    "print('X_test', X_test.shape)\n",
    "\n",
    "k = 5\n",
    "kNN = neighbors.KNeighborsClassifier(n_neighbors = k, weights='distance')\n",
    "kNN.fit(X_train, Y_train)\n",
    "prediksi_kNN = kNN.predict(X_test)\n",
    "acc_kNN = accuracy_score(Y_test, prediksi_kNN)\n",
    "print('Akurasi k-NN:', acc_kNN)\n",
    "\n",
    "gnb = GaussianNB()\n",
    "prediksi_NB = gnb.fit(X_train, Y_train).predict(X_test)\n",
    "acc_NB = accuracy_score(Y_test, prediksi_NB)\n",
    "print('Akurasi Naive Bayes:', acc_NB)\n",
    "\n",
    "DT = tree.DecisionTreeClassifier()\n",
    "DT = DT.fit(X_train, Y_train)\n",
    "prediksi_DT = DT.predict(X_test)\n",
    "acc_DT = accuracy_score(Y_test, prediksi_DT)\n",
    "print('Akurasi DT:', acc_DT)\n",
    "\n",
    "dSVM = svm.SVC(decision_function_shape='ovo') # one versus one SVM\n",
    "dSVM.fit(X_train, Y_train)\n",
    "prediksi_SVM = dSVM.predict(X_test)\n",
    "acc_SVM = accuracy_score(Y_test, prediksi_SVM)\n",
    "print('Akurasi SVM:', acc_SVM)\n"
   ]
  },
  {
   "cell_type": "code",
   "execution_count": null,
   "metadata": {
    "collapsed": true
   },
   "outputs": [],
   "source": []
  }
 ],
 "metadata": {
  "kernelspec": {
   "display_name": "Python 3",
   "language": "python",
   "name": "python3"
  },
  "language_info": {
   "codemirror_mode": {
    "name": "ipython",
    "version": 3
   },
   "file_extension": ".py",
   "mimetype": "text/x-python",
   "name": "python",
   "nbconvert_exporter": "python",
   "pygments_lexer": "ipython3",
   "version": "3.6.1"
  }
 },
 "nbformat": 4,
 "nbformat_minor": 2
}
